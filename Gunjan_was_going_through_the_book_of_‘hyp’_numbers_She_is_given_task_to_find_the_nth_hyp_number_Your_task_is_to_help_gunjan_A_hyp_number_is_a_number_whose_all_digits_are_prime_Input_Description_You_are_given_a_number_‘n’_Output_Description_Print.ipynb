{
  "nbformat": 4,
  "nbformat_minor": 0,
  "metadata": {
    "colab": {
      "provenance": [],
      "authorship_tag": "ABX9TyNe5DzxM/1Op46RbiEGxrga",
      "include_colab_link": true
    },
    "kernelspec": {
      "name": "python3",
      "display_name": "Python 3"
    },
    "language_info": {
      "name": "python"
    }
  },
  "cells": [
    {
      "cell_type": "markdown",
      "metadata": {
        "id": "view-in-github",
        "colab_type": "text"
      },
      "source": [
        "<a href=\"https://colab.research.google.com/github/omkarmohite123/Mathematical_problem-Solve-using-Python/blob/main/Gunjan_was_going_through_the_book_of_%E2%80%98hyp%E2%80%99_numbers_She_is_given_task_to_find_the_nth_hyp_number_Your_task_is_to_help_gunjan_A_hyp_number_is_a_number_whose_all_digits_are_prime_Input_Description_You_are_given_a_number_%E2%80%98n%E2%80%99_Output_Description_Print.ipynb\" target=\"_parent\"><img src=\"https://colab.research.google.com/assets/colab-badge.svg\" alt=\"Open In Colab\"/></a>"
      ]
    },
    {
      "cell_type": "code",
      "source": [
        "\"\"\"\n",
        "Gunjan was going through the book of ‘hyp’ numbers. She is given task to find the nth hyp number.Your task is to help gunjan\n",
        "\n",
        "A hyp number is a number whose all digits are prime.\n",
        "\n",
        "Input Description:\n",
        "You are given a number ‘n’.\n",
        "\n",
        "Output Description:\n",
        "Print the ‘nth’ hyp number.\n",
        "\n",
        "Sample Input :\n",
        "3\n",
        "Sample Output :\n",
        "5\n",
        "\"\"\""
      ],
      "metadata": {
        "id": "VJV6BCUFxPqS"
      },
      "execution_count": null,
      "outputs": []
    },
    {
      "cell_type": "code",
      "source": [
        "k=[]\n",
        "for i in range(2,10000):\n",
        "  c=0\n",
        "  for j in range(2,(i//2)+1):\n",
        "    if i%j==0:\n",
        "      c+=1\n",
        "  if c==0 and i!=1:\n",
        "    k.append(i)\n",
        "a=int(input())\n",
        "print(k[a-1])"
      ],
      "metadata": {
        "colab": {
          "base_uri": "https://localhost:8080/"
        },
        "id": "GhZxFXO8vi4J",
        "outputId": "d8003677-e63a-4f79-9c16-0882886d5f45"
      },
      "execution_count": 10,
      "outputs": [
        {
          "output_type": "stream",
          "name": "stdout",
          "text": [
            "3\n",
            "5\n"
          ]
        }
      ]
    }
  ]
}