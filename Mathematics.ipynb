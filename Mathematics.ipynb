{
  "nbformat": 4,
  "nbformat_minor": 0,
  "metadata": {
    "colab": {
      "provenance": [],
      "authorship_tag": "ABX9TyNuWiSUyfiqFztUIvpOqLOZ",
      "include_colab_link": true
    },
    "kernelspec": {
      "name": "python3",
      "display_name": "Python 3"
    },
    "language_info": {
      "name": "python"
    }
  },
  "cells": [
    {
      "cell_type": "markdown",
      "metadata": {
        "id": "view-in-github",
        "colab_type": "text"
      },
      "source": [
        "<a href=\"https://colab.research.google.com/github/omkarmohite123/Mathematical_problem-Solve-using-Python/blob/main/Mathematics.ipynb\" target=\"_parent\"><img src=\"https://colab.research.google.com/assets/colab-badge.svg\" alt=\"Open In Colab\"/></a>"
      ]
    },
    {
      "cell_type": "code",
      "source": [
        "\"\"\"\n",
        "Sreelatha was confused with series. She is given with a number ‘n’. There is a pattern hidden the series. She has to understand and print  the series till nth number by looking into example.Sreelatha is confused and She hired you , you have to develop the series for sreelatha by observing the pattern from the below example.\n",
        "\n",
        "Input Description:\n",
        "She is given with a number ‘n’.\n",
        "\n",
        "Output Description:\n",
        "print  the series till nth number\n",
        "\n",
        "Sample Input :\n",
        "3\n",
        "Sample Output :\n",
        "1 9 36\n",
        "\n",
        "\"\"\""
      ],
      "metadata": {
        "id": "UTIiFFfdwQhB"
      },
      "execution_count": null,
      "outputs": []
    },
    {
      "cell_type": "code",
      "source": [
        "a=int(input())\n",
        "c=[]\n",
        "for i in range(1,a+1):\n",
        "   c.append(i)\n",
        "k=[]\n",
        "j=0\n",
        "for i in range(len(c)):\n",
        "  j=j+c[i]**3\n",
        "  k.append(j)\n",
        "print(*k) "
      ],
      "metadata": {
        "colab": {
          "base_uri": "https://localhost:8080/"
        },
        "id": "fztqCr7l1720",
        "outputId": "d9940232-6cf7-4cf0-cd96-502904bd82a4"
      },
      "execution_count": 2,
      "outputs": [
        {
          "output_type": "stream",
          "name": "stdout",
          "text": [
            "3\n",
            "1 9 36\n"
          ]
        }
      ]
    }
  ]
}