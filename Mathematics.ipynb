{
  "nbformat": 4,
  "nbformat_minor": 0,
  "metadata": {
    "colab": {
      "provenance": [],
      "authorship_tag": "ABX9TyOdmrew1Lmft1roxcdwF7an",
      "include_colab_link": true
    },
    "kernelspec": {
      "name": "python3",
      "display_name": "Python 3"
    },
    "language_info": {
      "name": "python"
    }
  },
  "cells": [
    {
      "cell_type": "markdown",
      "metadata": {
        "id": "view-in-github",
        "colab_type": "text"
      },
      "source": [
        "<a href=\"https://colab.research.google.com/github/omkarmohite123/Mathematical_problem-Solve-using-Python/blob/main/Mathematics.ipynb\" target=\"_parent\"><img src=\"https://colab.research.google.com/assets/colab-badge.svg\" alt=\"Open In Colab\"/></a>"
      ]
    },
    {
      "cell_type": "code",
      "source": [
        "\"\"\"\n",
        "Given a number N, print its factors.\n",
        "Input Size : n<=1000\n",
        "Sample Testcase :\n",
        "INPUT\n",
        "6\n",
        "OUTPUT\n",
        "1 2 3 6\n",
        "\n",
        "\"\"\""
      ],
      "metadata": {
        "id": "UTIiFFfdwQhB"
      },
      "execution_count": null,
      "outputs": []
    },
    {
      "cell_type": "code",
      "source": [
        "a=int(input())\n",
        "b=[]\n",
        "for i in range (1,a+1):\n",
        "  if a % i==0:\n",
        "   b.append(i)\n",
        "print(*b)"
      ],
      "metadata": {
        "colab": {
          "base_uri": "https://localhost:8080/"
        },
        "id": "GJZ7KBlMwQo9",
        "outputId": "edc5cb1b-c0d5-4e7d-e9af-789d2a811959"
      },
      "execution_count": 1,
      "outputs": [
        {
          "output_type": "stream",
          "name": "stdout",
          "text": [
            "6\n",
            "1 2 3 6\n"
          ]
        }
      ]
    }
  ]
}