{
  "nbformat": 4,
  "nbformat_minor": 0,
  "metadata": {
    "colab": {
      "provenance": [],
      "authorship_tag": "ABX9TyOyDRVQDMlU8op9svJoGcOQ",
      "include_colab_link": true
    },
    "kernelspec": {
      "name": "python3",
      "display_name": "Python 3"
    },
    "language_info": {
      "name": "python"
    }
  },
  "cells": [
    {
      "cell_type": "markdown",
      "metadata": {
        "id": "view-in-github",
        "colab_type": "text"
      },
      "source": [
        "<a href=\"https://colab.research.google.com/github/omkarmohite123/Mathematical_problem-Solve-using-Python/blob/main/Mathematics1.ipynb\" target=\"_parent\"><img src=\"https://colab.research.google.com/assets/colab-badge.svg\" alt=\"Open In Colab\"/></a>"
      ]
    },
    {
      "cell_type": "code",
      "source": [
        "\"\"\"\n",
        "A sequence is given by: 2, 6, 11, 17, 24,....\n",
        "\n",
        "The first term is 2.\n",
        "\n",
        "Given an integer N, find the Nth term of the sequence.\n",
        "\n",
        "1 <= N <= 10^18\n",
        "\n",
        "Since the answer can be very large print it modulo 1,000,000,007 (10^9 + 7)\n",
        "\n",
        "Input Description:\n",
        "The only line of input contains an integer N\n",
        "\n",
        "Output Description:\n",
        "Print the Nth term of the sequence\n",
        "\n",
        "Sample Input :\n",
        "5\n",
        "Sample Output :\n",
        "24\n",
        "\n",
        "\"\"\""
      ],
      "metadata": {
        "id": "dfxjg-5p75PY"
      },
      "execution_count": null,
      "outputs": []
    },
    {
      "cell_type": "code",
      "source": [
        "\n",
        "a=int(input())\n",
        "\n",
        "g=2\n",
        "c=[2]\n",
        "\n",
        "for i in range(4,100):\n",
        "    g=g+i\n",
        "    c.append(g)\n",
        "print(c[a-1])"
      ],
      "metadata": {
        "colab": {
          "base_uri": "https://localhost:8080/"
        },
        "id": "dwtTNVBy75m6",
        "outputId": "42a4e7e6-7230-4197-fbf6-a4fcff33ff0f"
      },
      "execution_count": 69,
      "outputs": [
        {
          "output_type": "stream",
          "name": "stdout",
          "text": [
            "5\n",
            "24\n"
          ]
        }
      ]
    }
  ]
}