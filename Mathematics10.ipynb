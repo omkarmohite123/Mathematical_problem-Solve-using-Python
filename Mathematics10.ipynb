{
  "nbformat": 4,
  "nbformat_minor": 0,
  "metadata": {
    "colab": {
      "provenance": [],
      "authorship_tag": "ABX9TyOm4/m+GzzSZc9h3FMqdcpG",
      "include_colab_link": true
    },
    "kernelspec": {
      "name": "python3",
      "display_name": "Python 3"
    },
    "language_info": {
      "name": "python"
    }
  },
  "cells": [
    {
      "cell_type": "markdown",
      "metadata": {
        "id": "view-in-github",
        "colab_type": "text"
      },
      "source": [
        "<a href=\"https://colab.research.google.com/github/omkarmohite123/Mathematical_problem-Solve-using-Python/blob/main/Mathematics10.ipynb\" target=\"_parent\"><img src=\"https://colab.research.google.com/assets/colab-badge.svg\" alt=\"Open In Colab\"/></a>"
      ]
    },
    {
      "cell_type": "code",
      "source": [
        "\"\"\"\n",
        "Given a number N, and a N*N matrix containing only 0's and 1's, where 0's represent water and 1's representing land, find the number of island 1's(1 surrounded by 0 on all of its adjacent sides).If the island could not be found with the given matrix print -1.\n",
        "Input Size : 1 <= N <= 1000\n",
        "Sample Testcase :\n",
        "INPUT\n",
        "3\n",
        "1 1 0\n",
        "0 0 0\n",
        "0 1 0\n",
        "OUTPUT\n",
        "1\n",
        "\n",
        "\n",
        "\"\"\""
      ],
      "metadata": {
        "id": "EWOhvoy--qXz"
      },
      "execution_count": null,
      "outputs": []
    },
    {
      "cell_type": "code",
      "source": [
        "class Solution :\n",
        "   def Islands ( self , grid) :\n",
        "       if not grid : return 0\n",
        "       def dfs ( i , j , grid ) :\n",
        "           if i < 0 or j < 0 or i >= row or j >= col or grid [ i ] [ j ] == 0 :\n",
        "               return\n",
        "           grid [ i ] [ j ] = 0\t# Mark cell as zero to avoid recounting\n",
        "           dfs ( i + 1 , j , grid )\t\t\n",
        "           dfs ( i - 1 , j , grid )\n",
        "           dfs ( i , j + 1 , grid )\n",
        "           dfs ( i , j - 1 , grid )\n",
        "           return\n",
        "       islands = 0\n",
        "       row = len ( grid )\n",
        "       col = len ( grid [ 0 ] )\n",
        "       for i in range ( 0 , row ) :\t# Traverse grid\n",
        "           for j in range ( 0 , col ) :\n",
        "               if grid [ i ] [ j ] == 1 :\n",
        "                   dfs ( i , j , grid )\n",
        "                   islands += 1\n",
        "       return islands\n",
        "\n",
        "if __name__ == '__main__':\n",
        "    a=int(input())\n",
        "    mat = [list(map(int,input().split())) for i in range(a)]\n",
        "    g=Solution().Islands(mat)\n",
        "    if g!=0:\n",
        "      print(g)\n",
        "    else:\n",
        "      print(\"-1\")"
      ],
      "metadata": {
        "colab": {
          "base_uri": "https://localhost:8080/"
        },
        "id": "ukOcV6hbGeCd",
        "outputId": "f725673f-9ac6-4701-e2c3-27455d997dc5"
      },
      "execution_count": 11,
      "outputs": [
        {
          "output_type": "stream",
          "name": "stdout",
          "text": [
            "3\n",
            "1 1 0\n",
            "0 0 0\n",
            "0 1 0\n",
            "2\n"
          ]
        }
      ]
    },
    {
      "cell_type": "code",
      "source": [],
      "metadata": {
        "id": "208jEF5_GA88"
      },
      "execution_count": null,
      "outputs": []
    }
  ]
}