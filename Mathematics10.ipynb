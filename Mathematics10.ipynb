{
  "nbformat": 4,
  "nbformat_minor": 0,
  "metadata": {
    "colab": {
      "provenance": [],
      "authorship_tag": "ABX9TyMZeHwfgFSgSrM5IvNvOr6v",
      "include_colab_link": true
    },
    "kernelspec": {
      "name": "python3",
      "display_name": "Python 3"
    },
    "language_info": {
      "name": "python"
    }
  },
  "cells": [
    {
      "cell_type": "markdown",
      "metadata": {
        "id": "view-in-github",
        "colab_type": "text"
      },
      "source": [
        "<a href=\"https://colab.research.google.com/github/omkarmohite123/Mathematical_problem-Solve-using-Python/blob/main/Mathematics10.ipynb\" target=\"_parent\"><img src=\"https://colab.research.google.com/assets/colab-badge.svg\" alt=\"Open In Colab\"/></a>"
      ]
    },
    {
      "cell_type": "code",
      "source": [
        "\"\"\"\n",
        "You are given a sequence containing N integers. Changing a maximum of one element of the sequence will result in a geometric progression with an integer common ratio.\n",
        "\n",
        "Your task is to print the correct geometric progression. ((Ref. https://en.wikipedia.org/wiki/Geometric_progression), N >= 4)\n",
        "\n",
        "Input Description:\n",
        "The first line contains the integer N. The next line contains N space separated integers, A[0], A[1]...A[n-1]/\n",
        "\n",
        "Output Description:\n",
        "Print N space separated integers, which are in Geometric Progression\n",
        "\n",
        "Sample Input :\n",
        "4\n",
        "2 3 8 16\n",
        "Sample Output :\n",
        "2 4 8 16\n",
        "\n",
        "\"\"\""
      ],
      "metadata": {
        "id": "k5VR1ElA7ukM"
      },
      "execution_count": null,
      "outputs": []
    },
    {
      "cell_type": "code",
      "source": [
        "a=int(input())\n",
        "b=list(map(int,input().split()))\n",
        "k=[]\n",
        "r=a-b[0]\n",
        "for i in range(0,a):\n",
        "  val=b[0]*pow(r,i)\n",
        "  k.append(val)\n",
        "print(*k)"
      ],
      "metadata": {
        "colab": {
          "base_uri": "https://localhost:8080/"
        },
        "id": "4qKQA4J67utR",
        "outputId": "0618327a-2e44-466d-8b5f-89e787f4e1f6"
      },
      "execution_count": 7,
      "outputs": [
        {
          "output_type": "stream",
          "name": "stdout",
          "text": [
            "4\n",
            "2 3 8 16\n",
            "2 4 8 16\n"
          ]
        }
      ]
    },
    {
      "cell_type": "code",
      "source": [],
      "metadata": {
        "id": "EWOhvoy--qXz"
      },
      "execution_count": null,
      "outputs": []
    }
  ]
}