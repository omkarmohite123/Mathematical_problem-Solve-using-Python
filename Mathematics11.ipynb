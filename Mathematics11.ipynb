{
  "nbformat": 4,
  "nbformat_minor": 0,
  "metadata": {
    "colab": {
      "provenance": [],
      "authorship_tag": "ABX9TyMV4H28g9gtOEn16+UlpSui",
      "include_colab_link": true
    },
    "kernelspec": {
      "name": "python3",
      "display_name": "Python 3"
    },
    "language_info": {
      "name": "python"
    }
  },
  "cells": [
    {
      "cell_type": "markdown",
      "metadata": {
        "id": "view-in-github",
        "colab_type": "text"
      },
      "source": [
        "<a href=\"https://colab.research.google.com/github/omkarmohite123/Mathematical_problem-Solve-using-Python/blob/main/Mathematics11.ipynb\" target=\"_parent\"><img src=\"https://colab.research.google.com/assets/colab-badge.svg\" alt=\"Open In Colab\"/></a>"
      ]
    },
    {
      "cell_type": "code",
      "source": [
        "\"\"\"\n",
        "rahul is given an array containing digits values ranging from 0-9,Rahul’s task is to find the sum of minimum two numbers formed by the digits,but he has some other work to do, he called you and told you that he is busy with some work,your task is to do the same work for rahul\n",
        "\n",
        " \n",
        "\n",
        "Input Description:\n",
        "You are given a number ‘n’ denoting size of array Next line contains n space separated numbers\n",
        "\n",
        "Output Description:\n",
        "Print the sum of numbers formed by it\n",
        "\n",
        "Sample Input :\n",
        "6\n",
        "6 8 4 5 2 3\n",
        "Sample Output :\n",
        "604\n",
        "\n",
        "\n",
        "\"\"\""
      ],
      "metadata": {
        "id": "208jEF5_GA88"
      },
      "execution_count": null,
      "outputs": []
    },
    {
      "cell_type": "code",
      "source": [
        "a=int(input())\n",
        "b=list(map(int,input().split()))\n",
        "b.sort()\n",
        "d=0\n",
        "s=0\n",
        "for i in range(a):\n",
        "  if i%2!=0:\n",
        "    d=d*10+b[i]\n",
        "  else:\n",
        "    s=s*10+b[i]\n",
        "f=d+s\n",
        "print(f)\n"
      ],
      "metadata": {
        "colab": {
          "base_uri": "https://localhost:8080/"
        },
        "id": "NLUEhvUHLokH",
        "outputId": "702d652f-b166-411f-cc3d-3bb4d3d679ca"
      },
      "execution_count": 17,
      "outputs": [
        {
          "output_type": "stream",
          "name": "stdout",
          "text": [
            "6\n",
            "6 8 4 5 2 3\n",
            "604\n"
          ]
        }
      ]
    }
  ]
}