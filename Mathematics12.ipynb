{
  "nbformat": 4,
  "nbformat_minor": 0,
  "metadata": {
    "colab": {
      "provenance": [],
      "authorship_tag": "ABX9TyPC+6npmtKmeB6L5nG17tJM",
      "include_colab_link": true
    },
    "kernelspec": {
      "name": "python3",
      "display_name": "Python 3"
    },
    "language_info": {
      "name": "python"
    }
  },
  "cells": [
    {
      "cell_type": "markdown",
      "metadata": {
        "id": "view-in-github",
        "colab_type": "text"
      },
      "source": [
        "<a href=\"https://colab.research.google.com/github/omkarmohite123/Mathematical_problem-Solve-using-Python/blob/main/Mathematics12.ipynb\" target=\"_parent\"><img src=\"https://colab.research.google.com/assets/colab-badge.svg\" alt=\"Open In Colab\"/></a>"
      ]
    },
    {
      "cell_type": "code",
      "source": [
        "\"\"\"\n",
        "Given a number N print the right-angled triangle with the top level having N 1's followed by each level with is one 1 lesser.\n",
        "Input Size : N <= 1000\n",
        "Sample Testcase :\n",
        "INPUT\n",
        "3\n",
        "OUTPUT\n",
        "1 1 1\n",
        "1 1\n",
        "1\n",
        "\"\"\""
      ],
      "metadata": {
        "id": "YYIQi__nU9qk"
      },
      "execution_count": null,
      "outputs": []
    },
    {
      "cell_type": "code",
      "source": [
        "\n",
        "s=int(input())\n",
        "m=[]\n",
        "d=\"\"\n",
        "for i in range(1,s+1):\n",
        "  for j in range(1,i+1):\n",
        "    d=d+\"1\"\n",
        "  m.append(d)\n",
        "  d=\"\"\n",
        "h=m[::-1]\n",
        "for i in h:\n",
        "  print(*i)"
      ],
      "metadata": {
        "colab": {
          "base_uri": "https://localhost:8080/"
        },
        "id": "jEg3EoPEW_uo",
        "outputId": "b8f82daf-c5bd-4a42-cbf9-5d0c2f02d074"
      },
      "execution_count": 26,
      "outputs": [
        {
          "output_type": "stream",
          "name": "stdout",
          "text": [
            "3\n",
            "1 1 1\n",
            "1 1\n",
            "1\n"
          ]
        }
      ]
    }
  ]
}