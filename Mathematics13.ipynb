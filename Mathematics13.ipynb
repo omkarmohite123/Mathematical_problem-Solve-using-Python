{
  "nbformat": 4,
  "nbformat_minor": 0,
  "metadata": {
    "colab": {
      "provenance": [],
      "authorship_tag": "ABX9TyNaMd/7m0PC63wLTQQz7AuT",
      "include_colab_link": true
    },
    "kernelspec": {
      "name": "python3",
      "display_name": "Python 3"
    },
    "language_info": {
      "name": "python"
    }
  },
  "cells": [
    {
      "cell_type": "markdown",
      "metadata": {
        "id": "view-in-github",
        "colab_type": "text"
      },
      "source": [
        "<a href=\"https://colab.research.google.com/github/omkarmohite123/Mathematical_problem-Solve-using-Python/blob/main/Mathematics13.ipynb\" target=\"_parent\"><img src=\"https://colab.research.google.com/assets/colab-badge.svg\" alt=\"Open In Colab\"/></a>"
      ]
    },
    {
      "cell_type": "code",
      "source": [
        "\"\"\"\n",
        "Given 2 numbers N and M followed by a matrix of size N * M.if there is any entry which is 0 change the entire column and row to zero respectively and then print the matrix.\n",
        "Input Size : 1 <= N <= 1000\n",
        "Sample Testcases :\n",
        "INPUT\n",
        "2 3\n",
        "1 0 1\n",
        "1 1 1\n",
        "OUTPUT\n",
        "0 0 0\n",
        "1 0 1\n",
        "\"\"\""
      ],
      "metadata": {
        "id": "Q7VTj4U6YRnU"
      },
      "execution_count": null,
      "outputs": []
    },
    {
      "cell_type": "code",
      "source": [
        "\n",
        "def setZeroes(matrix):\n",
        "    R= len(matrix)\n",
        "    C = len(matrix[0])\n",
        "    rows, cols = set(), set()\n",
        "\n",
        "        # Essentially, we mark the rows and columns that are to be made zero\n",
        "    for i in range(R):\n",
        "      for j in range(C):\n",
        "        if matrix[i][j] == 0:\n",
        "            rows.add(i)\n",
        "            cols.add(j)\n",
        "\n",
        "        # Iterate over the array once again and using the rows and cols sets, update the elements\n",
        "    for i in range(R):\n",
        "      for j in range(C):\n",
        "          if i in rows or j in cols:\n",
        "            matrix[i][j] = 0\n",
        "    return(matrix)\n",
        "R,C=list(map(int,input().split()))\n",
        "k=[]\n",
        "matrix=[list(map(int,input().split())) for i in range(R)]\n",
        "f=setZeroes(matrix)\n",
        "for i in f:\n",
        "  print(*i)\n"
      ],
      "metadata": {
        "colab": {
          "base_uri": "https://localhost:8080/"
        },
        "id": "LvoJ4DBzYRqr",
        "outputId": "365b9c9b-f4e3-4326-9682-d011754aed94"
      },
      "execution_count": 38,
      "outputs": [
        {
          "output_type": "stream",
          "name": "stdout",
          "text": [
            "2 3\n",
            "1 0 1\n",
            "1 1 1\n",
            "0 0 0\n",
            "1 0 1\n"
          ]
        }
      ]
    },
    {
      "cell_type": "code",
      "source": [],
      "metadata": {
        "id": "Z5TJPuPScxd9"
      },
      "execution_count": null,
      "outputs": []
    }
  ]
}