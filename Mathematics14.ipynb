{
  "nbformat": 4,
  "nbformat_minor": 0,
  "metadata": {
    "colab": {
      "provenance": [],
      "authorship_tag": "ABX9TyN5XZjWq3oRjs8VlDwckqMM",
      "include_colab_link": true
    },
    "kernelspec": {
      "name": "python3",
      "display_name": "Python 3"
    },
    "language_info": {
      "name": "python"
    }
  },
  "cells": [
    {
      "cell_type": "markdown",
      "metadata": {
        "id": "view-in-github",
        "colab_type": "text"
      },
      "source": [
        "<a href=\"https://colab.research.google.com/github/omkarmohite123/Mathematical_problem-Solve-using-Python/blob/main/Mathematics14.ipynb\" target=\"_parent\"><img src=\"https://colab.research.google.com/assets/colab-badge.svg\" alt=\"Open In Colab\"/></a>"
      ]
    },
    {
      "cell_type": "code",
      "source": [
        "\"\"\"\n",
        "Given a list of N coins, their values (V1, V2, … , VN), and the total sum S. Find the minimum number of coins the sum of which is S (we can use as many coins of one type as we want), if it is not possible to select coins in such a way that they sum up to S then print '-1'.\n",
        "Example: Given coins with values 1, 3, and 5. And the sum S is 11.\n",
        "Output: 3, 2 coins of 3 and 1 coin of 5\n",
        "Input Size : N<=10000\n",
        "Example:\n",
        "INPUT\n",
        "3 11\n",
        "1 3 5\n",
        "OUTPUT\n",
        "3\n",
        "\"\"\""
      ],
      "metadata": {
        "id": "HdHMU5RgONRQ"
      },
      "execution_count": null,
      "outputs": []
    },
    {
      "cell_type": "code",
      "source": [
        "import sys\n",
        "def nCoin(array, m , V):\n",
        "  if V==0:\n",
        "    return 0\n",
        "  res=sys.maxsize\n",
        "  for i in range(0,m):\n",
        "    if arr[i]<=V:\n",
        "      sub_res=nCoin(arr,m,V-arr[i])\n",
        "      if (sub_res!=sys.maxsize and sub_res+1 < res):\n",
        "        res=sub_res+1\n",
        "  return res\n",
        "\n",
        "m,V=list(map(int,input().split()))\n",
        "arr=list(map(int,input().split()))\n",
        "\n",
        "print(nCoin(arr, m ,V))"
      ],
      "metadata": {
        "colab": {
          "base_uri": "https://localhost:8080/"
        },
        "id": "KIFDWsjnONW1",
        "outputId": "2d360cdd-9368-4d8c-dea2-a28a146d2857"
      },
      "execution_count": 6,
      "outputs": [
        {
          "output_type": "stream",
          "name": "stdout",
          "text": [
            "3 11\n",
            "1 3 5\n",
            "3\n"
          ]
        }
      ]
    }
  ]
}