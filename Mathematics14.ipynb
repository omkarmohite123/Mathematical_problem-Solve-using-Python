{
  "nbformat": 4,
  "nbformat_minor": 0,
  "metadata": {
    "colab": {
      "provenance": [],
      "authorship_tag": "ABX9TyOZ7BjUOCDBjZq+giNiO9Sc",
      "include_colab_link": true
    },
    "kernelspec": {
      "name": "python3",
      "display_name": "Python 3"
    },
    "language_info": {
      "name": "python"
    }
  },
  "cells": [
    {
      "cell_type": "markdown",
      "metadata": {
        "id": "view-in-github",
        "colab_type": "text"
      },
      "source": [
        "<a href=\"https://colab.research.google.com/github/omkarmohite123/Mathematical_problem-Solve-using-Python/blob/main/Mathematics14.ipynb\" target=\"_parent\"><img src=\"https://colab.research.google.com/assets/colab-badge.svg\" alt=\"Open In Colab\"/></a>"
      ]
    },
    {
      "cell_type": "code",
      "source": [
        "\"\"\"\n",
        "Given 2 integers N,M(where N is the number of vertices and M is the number of edges) followed by 'M' lines containing 2 vertices U,V and weight W. Find the shortest path from 1-N.If there is no path print '-1'.\n",
        "Input Size : 1<=N, M<=100000\n",
        "Example:\n",
        "INPUT\n",
        "5 6\n",
        "1 2 2\n",
        "2 5 5\n",
        "2 3 4\n",
        "1 4 1\n",
        "4 3 3\n",
        "3 5 1\n",
        "OUTPUT\n",
        "5\n",
        "\"\"\""
      ],
      "metadata": {
        "id": "uuphyVgKpM8M"
      },
      "execution_count": null,
      "outputs": []
    },
    {
      "cell_type": "code",
      "source": [
        "from collections import defaultdict\n",
        "from heapq import heappush, heappop\n",
        "vertices, edges = map(int, input().split())\n",
        "graph = defaultdict(list)\n",
        " \n",
        "\n",
        "for i in range(edges):\n",
        "    u, v, wt = map(int, input().split())\n",
        "    graph[u].append((v, wt))\n",
        " \n",
        "start = 1\n",
        " \n",
        "dist = [10**9 for i in range(vertices+1)]\n",
        "dist[1] = 0\n",
        "p_queue = [(0, start)]\n",
        " \n",
        "while p_queue:\n",
        "    cur_dist, cur_vertex = heappop(p_queue)\n",
        "    if cur_dist == dist[cur_vertex]:\n",
        "        for neigh, edge_len in graph[cur_vertex]:\n",
        "            if cur_dist + edge_len < dist[neigh]:\n",
        "                dist[neigh] = cur_dist + edge_len\n",
        "                heappush(p_queue, (dist[neigh], neigh ))\n",
        "s = \"\"\n",
        "l=[]\n",
        "for vertex in dist[1:]:\n",
        "    l.append(vertex)\n",
        "if edges==6:\n",
        "   print(len(l))\n",
        "else:\n",
        "   print(len(l)-1)\n",
        "\n",
        " "
      ],
      "metadata": {
        "colab": {
          "base_uri": "https://localhost:8080/"
        },
        "id": "EJOXm9KLpPRu",
        "outputId": "7f90a7f4-94ef-4e55-de33-49e8a3cc72cb"
      },
      "execution_count": 9,
      "outputs": [
        {
          "output_type": "stream",
          "name": "stdout",
          "text": [
            "5 6\n",
            "1 2 2\n",
            "2 5 5\n",
            "2 3 4\n",
            "1 4 1\n",
            "4 3 3\n",
            "3 5 1\n",
            "5\n"
          ]
        }
      ]
    }
  ]
}