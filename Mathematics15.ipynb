{
  "nbformat": 4,
  "nbformat_minor": 0,
  "metadata": {
    "colab": {
      "provenance": [],
      "authorship_tag": "ABX9TyPTQ5QVaAzMtMEP8FyVeG04",
      "include_colab_link": true
    },
    "kernelspec": {
      "name": "python3",
      "display_name": "Python 3"
    },
    "language_info": {
      "name": "python"
    }
  },
  "cells": [
    {
      "cell_type": "markdown",
      "metadata": {
        "id": "view-in-github",
        "colab_type": "text"
      },
      "source": [
        "<a href=\"https://colab.research.google.com/github/omkarmohite123/Mathematical_problem-Solve-using-Python/blob/main/Mathematics15.ipynb\" target=\"_parent\"><img src=\"https://colab.research.google.com/assets/colab-badge.svg\" alt=\"Open In Colab\"/></a>"
      ]
    },
    {
      "cell_type": "code",
      "execution_count": null,
      "metadata": {
        "id": "hn9ArDY_YS8c"
      },
      "outputs": [],
      "source": [
        "\"\"\"\n",
        "The Romans have attacked again. This time they are much more than the Persians but Shapur is ready to defeat them. He says: 'A lion is never afraid of a hundred sheep'.\n",
        "\n",
        "Nevertheless Shapur has to find weaknesses in the Roman army to defeat them. So he gives the army a weakness number.\n",
        "\n",
        "In Shapur's opinion the weakness of an army is equal to the number of triplets i, j, k such that i < j < k and ai > aj > ak where ax is the power of man standing at position x. The Roman army has one special trait — powers of all the people in it are distinct.\n",
        "\n",
        "Help Shapur find out how weak the Romans are.\n",
        "\n",
        "The first line of input contains a single number n, the number of men in Roman army. Next line contains n different positive integers powers of men in the Roman army.\n",
        "Input Size : N<=100000\n",
        "Example:\n",
        "INPUT\n",
        "3\n",
        "3 2 1\n",
        "OUTPUT\n",
        "1\n",
        "\"\"\""
      ]
    },
    {
      "cell_type": "code",
      "source": [
        "\n",
        "a=input()\n",
        "b=list(map(int,input().split()))\n",
        "m=0\n",
        "c=0\n",
        "for i in range(len(b)):\n",
        "  for j in range(i,len(b)):\n",
        "    for k in range(j,len(b)):\n",
        "      if i<j and j<k and b[i]>b[j]>b[k]:\n",
        "         m=1\n",
        "      c=m  \n",
        "if m==0:\n",
        "  print(\"0\")\n",
        "else:\n",
        "  print(\"1\")"
      ],
      "metadata": {
        "colab": {
          "base_uri": "https://localhost:8080/"
        },
        "id": "oTm50i4QYXcx",
        "outputId": "e95001f4-53de-4249-c16e-f6c534a25473"
      },
      "execution_count": 1,
      "outputs": [
        {
          "output_type": "stream",
          "name": "stdout",
          "text": [
            "3\n",
            "3 2 1\n",
            "1\n"
          ]
        }
      ]
    }
  ]
}