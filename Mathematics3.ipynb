{
  "nbformat": 4,
  "nbformat_minor": 0,
  "metadata": {
    "colab": {
      "provenance": [],
      "authorship_tag": "ABX9TyOdfMyrrWB0TW4T9dBZcn5G",
      "include_colab_link": true
    },
    "kernelspec": {
      "name": "python3",
      "display_name": "Python 3"
    },
    "language_info": {
      "name": "python"
    }
  },
  "cells": [
    {
      "cell_type": "markdown",
      "metadata": {
        "id": "view-in-github",
        "colab_type": "text"
      },
      "source": [
        "<a href=\"https://colab.research.google.com/github/omkarmohite123/Mathematical_problem-Solve-using-Python/blob/main/Mathematics3.ipynb\" target=\"_parent\"><img src=\"https://colab.research.google.com/assets/colab-badge.svg\" alt=\"Open In Colab\"/></a>"
      ]
    },
    {
      "cell_type": "code",
      "source": [
        "\"\"\"\n",
        "A man has n buckets. He travels all the bucket and fills the water in bucket which is empty and empty the bucket which is already filled he goes for n times in this manner\n",
        "\n",
        "On first go 1,2,3,4,5,…n\n",
        "\n",
        "On second go 2,4,6,8…\n",
        "\n",
        "On third go 3,6,9…\n",
        "\n",
        "Your task is to develop a suitable algorithm in order to find the number of buckets which are filled with water at the end of last go.\n",
        "\n",
        "NOTE: INITIALLY ASSUME EVERY BUCKET IS EMPTY\n",
        "\n",
        "Input Description:\n",
        "First line of test case contains a positive number. Which means that there are these many buckets.\n",
        "\n",
        "Output Description:\n",
        "Print the number of buckets which are still having water.\n",
        "\n",
        "Sample Input :\n",
        "4\n",
        "Sample Output :\n",
        "2\n",
        "\"\"\""
      ],
      "metadata": {
        "id": "OtAjHx448jws"
      },
      "execution_count": null,
      "outputs": []
    },
    {
      "cell_type": "code",
      "source": [
        "n = int(input())\n",
        "l = [0 for i in range(n)]\n",
        "for i in range(1, n+1):\n",
        "    for j in range(1, n+1):\n",
        "        if j % i == 0:\n",
        "            if l[j-1] == 0:\n",
        "                l[j-1] = 1\n",
        "            else:\n",
        "                l[j-1] = 0\n",
        "print(l.count(1))\\"
      ],
      "metadata": {
        "colab": {
          "base_uri": "https://localhost:8080/"
        },
        "id": "aiCFU1je8veE",
        "outputId": "cb86219b-fdfd-458b-bb23-78dedffea89b"
      },
      "execution_count": 71,
      "outputs": [
        {
          "output_type": "stream",
          "name": "stdout",
          "text": [
            "4\n",
            "2\n"
          ]
        }
      ]
    }
  ]
}