{
  "nbformat": 4,
  "nbformat_minor": 0,
  "metadata": {
    "colab": {
      "provenance": [],
      "authorship_tag": "ABX9TyN2QnTSntYEkQPBz982OC9X",
      "include_colab_link": true
    },
    "kernelspec": {
      "name": "python3",
      "display_name": "Python 3"
    },
    "language_info": {
      "name": "python"
    }
  },
  "cells": [
    {
      "cell_type": "markdown",
      "metadata": {
        "id": "view-in-github",
        "colab_type": "text"
      },
      "source": [
        "<a href=\"https://colab.research.google.com/github/omkarmohite123/Mathematical_problem-Solve-using-Python/blob/main/Mathematics6.ipynb\" target=\"_parent\"><img src=\"https://colab.research.google.com/assets/colab-badge.svg\" alt=\"Open In Colab\"/></a>"
      ]
    },
    {
      "cell_type": "code",
      "source": [
        "\"\"\"\n",
        "Given 2 strings X and Y convert X to Y as cheaply as possible. Let the cost of insertion, deletion and updation be 1. Print the minimum cost.\n",
        "Input Size : 1<= N<=1000\n",
        "Example:\n",
        "INPUT\n",
        "codekata code\n",
        "OUTPUT\n",
        "4\n",
        "\n",
        "\n",
        "\"\"\""
      ],
      "metadata": {
        "colab": {
          "base_uri": "https://localhost:8080/",
          "height": 55
        },
        "id": "k_BRrsJ3-9lv",
        "outputId": "107e751b-1114-443e-d684-d9c7dbd16fa2"
      },
      "execution_count": 1,
      "outputs": [
        {
          "output_type": "execute_result",
          "data": {
            "text/plain": [
              "'\\nGiven 2 strings X and Y convert X to Y as cheaply as possible. Let the cost of insertion, deletion and updation be 1. Print the minimum cost.\\nInput Size : 1<= N<=1000\\nExample:\\nINPUT\\ncodekata code\\nOUTPUT\\n4\\n\\n\\n'"
            ],
            "application/vnd.google.colaboratory.intrinsic+json": {
              "type": "string"
            }
          },
          "metadata": {},
          "execution_count": 1
        }
      ]
    },
    {
      "cell_type": "code",
      "source": [
        "\n",
        "a,b=list(map(str,input().split()))\n",
        "d=[]\n",
        "f=0\n",
        "for i in a:\n",
        "  if i  not in b:\n",
        "    d.append(i)\n",
        "    f+=1\n",
        "\n",
        "if d==[]:\n",
        "    print(a[0])\n",
        "else:\n",
        "   print(len(d))"
      ],
      "metadata": {
        "colab": {
          "base_uri": "https://localhost:8080/"
        },
        "id": "eViSma-O-9yK",
        "outputId": "d52f9173-d42e-48a5-b2b3-0926d7e5e519"
      },
      "execution_count": 2,
      "outputs": [
        {
          "output_type": "stream",
          "name": "stdout",
          "text": [
            "codekata code\n",
            "4\n"
          ]
        }
      ]
    }
  ]
}