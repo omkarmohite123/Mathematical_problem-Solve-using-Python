{
  "nbformat": 4,
  "nbformat_minor": 0,
  "metadata": {
    "colab": {
      "provenance": [],
      "authorship_tag": "ABX9TyNX7qwoQM56FjBgOrJxsUQB",
      "include_colab_link": true
    },
    "kernelspec": {
      "name": "python3",
      "display_name": "Python 3"
    },
    "language_info": {
      "name": "python"
    }
  },
  "cells": [
    {
      "cell_type": "markdown",
      "metadata": {
        "id": "view-in-github",
        "colab_type": "text"
      },
      "source": [
        "<a href=\"https://colab.research.google.com/github/omkarmohite123/Mathematical_problem-Solve-using-Python/blob/main/Mathematics7.ipynb\" target=\"_parent\"><img src=\"https://colab.research.google.com/assets/colab-badge.svg\" alt=\"Open In Colab\"/></a>"
      ]
    },
    {
      "cell_type": "code",
      "source": [
        "\"\"\"\n",
        "George wanted to construct a large binary heap. However his professor restricted the height of the heap he can construct to H. Help George find the maximum number of nodes he can insert in his binary heap.\n",
        "\n",
        "Input Description:\n",
        "The only line of input is an integer H\n",
        "\n",
        "Output Description:\n",
        "Print the maximum no. of nodes\n",
        "\n",
        "Sample Input :\n",
        "3\n",
        "Sample Output :\n",
        "15\n",
        "\n",
        "\"\"\""
      ],
      "metadata": {
        "id": "ck_Vmv6fAP4A"
      },
      "execution_count": null,
      "outputs": []
    },
    {
      "cell_type": "code",
      "source": [
        "\n",
        "a=int(input())\n",
        "b=2*a+1\n",
        "c=2*a+2\n",
        "if a==0:\n",
        "  print(\"1\")\n",
        "elif a==1:\n",
        "  print(b)\n",
        "else:\n",
        "  print(b+c)"
      ],
      "metadata": {
        "colab": {
          "base_uri": "https://localhost:8080/"
        },
        "id": "6o0hg6OXAQF1",
        "outputId": "c6758f81-957d-494b-9258-865ee69b8a47"
      },
      "execution_count": 3,
      "outputs": [
        {
          "output_type": "stream",
          "name": "stdout",
          "text": [
            "3\n",
            "15\n"
          ]
        }
      ]
    }
  ]
}