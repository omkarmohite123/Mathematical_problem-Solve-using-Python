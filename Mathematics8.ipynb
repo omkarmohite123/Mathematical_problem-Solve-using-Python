{
  "nbformat": 4,
  "nbformat_minor": 0,
  "metadata": {
    "colab": {
      "provenance": [],
      "authorship_tag": "ABX9TyNuB3c8Oy9Tgs8bE2C7nify",
      "include_colab_link": true
    },
    "kernelspec": {
      "name": "python3",
      "display_name": "Python 3"
    },
    "language_info": {
      "name": "python"
    }
  },
  "cells": [
    {
      "cell_type": "markdown",
      "metadata": {
        "id": "view-in-github",
        "colab_type": "text"
      },
      "source": [
        "<a href=\"https://colab.research.google.com/github/omkarmohite123/Mathematical_problem-Solve-using-Python/blob/main/Mathematics8.ipynb\" target=\"_parent\"><img src=\"https://colab.research.google.com/assets/colab-badge.svg\" alt=\"Open In Colab\"/></a>"
      ]
    },
    {
      "cell_type": "code",
      "source": [
        "\"\"\"\n",
        "You will be given an integer. Your task is to find the factorial of that big integer.\n",
        "\n",
        "Input Description:\n",
        "You are given an integer\n",
        "\n",
        "Output Description:\n",
        "Print the factorial of that number\n",
        "\n",
        "Sample Input :\n",
        "100\n",
        "Sample Output :\n",
        "93326215443944152681699238856266700490715968264381621468592963895217599993229915608941463976156518286253697920827223758251185210916864000000000000000000000000\n",
        "Code Editor\n",
        "\n",
        "\"\"\""
      ],
      "metadata": {
        "id": "Dpb9oA77AkC9"
      },
      "execution_count": null,
      "outputs": []
    },
    {
      "cell_type": "code",
      "source": [
        "\n",
        "f=1\n",
        "a=int(input())\n",
        "for i in range(1,a+1):\n",
        "  f*=i\n",
        "print(f)"
      ],
      "metadata": {
        "colab": {
          "base_uri": "https://localhost:8080/"
        },
        "id": "GkCf2-mxAkKM",
        "outputId": "1662bc4a-01a9-462f-e180-7148d8491979"
      },
      "execution_count": 4,
      "outputs": [
        {
          "output_type": "stream",
          "name": "stdout",
          "text": [
            "100\n",
            "93326215443944152681699238856266700490715968264381621468592963895217599993229915608941463976156518286253697920827223758251185210916864000000000000000000000000\n"
          ]
        }
      ]
    }
  ]
}