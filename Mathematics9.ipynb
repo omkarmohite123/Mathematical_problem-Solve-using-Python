{
  "nbformat": 4,
  "nbformat_minor": 0,
  "metadata": {
    "colab": {
      "provenance": [],
      "authorship_tag": "ABX9TyMfpJPCEE/SHZU6tbL64nOs",
      "include_colab_link": true
    },
    "kernelspec": {
      "name": "python3",
      "display_name": "Python 3"
    },
    "language_info": {
      "name": "python"
    }
  },
  "cells": [
    {
      "cell_type": "markdown",
      "metadata": {
        "id": "view-in-github",
        "colab_type": "text"
      },
      "source": [
        "<a href=\"https://colab.research.google.com/github/omkarmohite123/Mathematical_problem-Solve-using-Python/blob/main/Mathematics9.ipynb\" target=\"_parent\"><img src=\"https://colab.research.google.com/assets/colab-badge.svg\" alt=\"Open In Colab\"/></a>"
      ]
    },
    {
      "cell_type": "code",
      "source": [
        "\"\"\"\n",
        "Write a program to calculate the total surface area and volume of cuboid. Input contains three space separated positive integers L, B, H denoting the length, width and height of cuboid respectively.\n",
        "Sample Testcase :\n",
        "INPUT\n",
        "1 2 3\n",
        "OUTPUT\n",
        "22 6\n",
        "\"\"\""
      ],
      "metadata": {
        "id": "aOlKURC8X1o2"
      },
      "execution_count": null,
      "outputs": []
    },
    {
      "cell_type": "code",
      "source": [
        "l,b,h=list(map(int,input().split()))\n",
        "a1=l*b\n",
        "a2=b*h\n",
        "a3=h*l\n",
        "s=2*(a1+a2+a3)\n",
        "v=l*b*h\n",
        "print(s,v)"
      ],
      "metadata": {
        "colab": {
          "base_uri": "https://localhost:8080/"
        },
        "id": "-EFoshO7X1ro",
        "outputId": "7ad04caa-2c14-4f32-bfd0-ad0d0937bf0f"
      },
      "execution_count": 2,
      "outputs": [
        {
          "output_type": "stream",
          "name": "stdout",
          "text": [
            "1 2 3\n",
            "22 6\n"
          ]
        }
      ]
    }
  ]
}