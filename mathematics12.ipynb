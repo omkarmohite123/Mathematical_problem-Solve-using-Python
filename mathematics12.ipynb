{
  "nbformat": 4,
  "nbformat_minor": 0,
  "metadata": {
    "colab": {
      "provenance": [],
      "authorship_tag": "ABX9TyNAAVIW4ud2Fv93bD54CTXT",
      "include_colab_link": true
    },
    "kernelspec": {
      "name": "python3",
      "display_name": "Python 3"
    },
    "language_info": {
      "name": "python"
    }
  },
  "cells": [
    {
      "cell_type": "markdown",
      "metadata": {
        "id": "view-in-github",
        "colab_type": "text"
      },
      "source": [
        "<a href=\"https://colab.research.google.com/github/omkarmohite123/Mathematical_problem-Solve-using-Python/blob/main/mathematics12.ipynb\" target=\"_parent\"><img src=\"https://colab.research.google.com/assets/colab-badge.svg\" alt=\"Open In Colab\"/></a>"
      ]
    },
    {
      "cell_type": "code",
      "source": [
        "\"\"\"\n",
        "Given a number N, print the smallest number with sum of digits N.\n",
        "Input Size : 1 <= N <= 100000\n",
        "Sample Testcase :\n",
        "INPUT\n",
        "12\n",
        "OUTPUT\n",
        "39\n",
        "\"\"\""
      ],
      "metadata": {
        "id": "TKqV0JB0Y5Zq"
      },
      "execution_count": null,
      "outputs": []
    },
    {
      "cell_type": "code",
      "source": [
        "\n",
        "def smallestNumber(N):\n",
        "\n",
        "\tprint((N % 9 + 1) * pow(10, (N // 9)) - 1)\n",
        "\n",
        "N = int(input())\n",
        "smallestNumber(N)\n"
      ],
      "metadata": {
        "colab": {
          "base_uri": "https://localhost:8080/"
        },
        "id": "MSXwbQxObzmZ",
        "outputId": "ce0ff2d4-12d9-43e3-ad39-be250b183313"
      },
      "execution_count": 1,
      "outputs": [
        {
          "output_type": "stream",
          "name": "stdout",
          "text": [
            "81\n",
            "999999999\n"
          ]
        }
      ]
    }
  ]
}