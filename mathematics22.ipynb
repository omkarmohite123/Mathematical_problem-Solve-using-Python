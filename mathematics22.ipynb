{
  "nbformat": 4,
  "nbformat_minor": 0,
  "metadata": {
    "colab": {
      "provenance": [],
      "authorship_tag": "ABX9TyMBIEjzUXsq3hgq7Fpr5OM9",
      "include_colab_link": true
    },
    "kernelspec": {
      "name": "python3",
      "display_name": "Python 3"
    },
    "language_info": {
      "name": "python"
    }
  },
  "cells": [
    {
      "cell_type": "markdown",
      "metadata": {
        "id": "view-in-github",
        "colab_type": "text"
      },
      "source": [
        "<a href=\"https://colab.research.google.com/github/omkarmohite123/Mathematical_problem-Solve-using-Python/blob/main/mathematics22.ipynb\" target=\"_parent\"><img src=\"https://colab.research.google.com/assets/colab-badge.svg\" alt=\"Open In Colab\"/></a>"
      ]
    },
    {
      "cell_type": "code",
      "source": [
        "\"\"\"\n",
        "Given an array of N elements, sort the elements of the array based on frequency. If two numbers have the same frequency,then the smaller number comes first (eg) if the elements are 1,1,3,1,2,3,4 then the output is 2,4,3,3,1,1,1\n",
        " \n",
        "\n",
        "Input Description:\n",
        "Size of the array followed by the number of elements\n",
        "\n",
        "Output Description:\n",
        "Array elements sorted based on increasing frequency\n",
        "\n",
        "Sample Input :\n",
        "5\n",
        "8 8 1 1 3\n",
        "Sample Output :\n",
        "3 1 1 8 8\n",
        "\n",
        "\"\"\""
      ],
      "metadata": {
        "id": "7Kf0WDS-dMIf"
      },
      "execution_count": null,
      "outputs": []
    },
    {
      "cell_type": "code",
      "source": [
        "\"\"\"\n",
        "You are given a number ‘n’. Your task is to create the smallest number possible using the digits of number. The number should be of the same length as the orignal input number.\n",
        "\n",
        "Input Description:\n",
        "You are given a number ‘n’,\n",
        "\n",
        "Output Description:\n",
        "Print the smallest possible number of same length\n",
        "\n",
        "Sample Input :\n",
        "123456789123456789\n",
        "Sample Output :\n",
        "112233445566778899\n",
        "\"\"\""
      ],
      "metadata": {
        "id": "rw5cCJdide4R"
      },
      "execution_count": null,
      "outputs": []
    },
    {
      "cell_type": "code",
      "source": [
        "a=input()\n",
        "s=list(a)\n",
        "d=sorted(s,reverse=False)\n",
        "k=\"\"\n",
        "for i in d:\n",
        "    k+=str(i)\n",
        "print(k)  "
      ],
      "metadata": {
        "colab": {
          "base_uri": "https://localhost:8080/"
        },
        "id": "z-x-GtiFfOIW",
        "outputId": "9fab8292-9578-4a85-a51e-1d5f272952e3"
      },
      "execution_count": 7,
      "outputs": [
        {
          "output_type": "stream",
          "name": "stdout",
          "text": [
            "123456789123456789\n",
            "112233445566778899\n"
          ]
        }
      ]
    }
  ]
}